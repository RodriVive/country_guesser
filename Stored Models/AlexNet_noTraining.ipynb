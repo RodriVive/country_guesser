{
  "cells": [
    {
      "cell_type": "markdown",
      "metadata": {
        "id": "t84tK2fjAGux"
      },
      "source": [
        "# EECS 442 FINAL: Geoguessr Neural Network"
      ]
    },
    {
      "cell_type": "markdown",
      "metadata": {
        "id": "b8zMyTMC0VDm"
      },
      "source": [
        "## Setup"
      ]
    },
    {
      "cell_type": "code",
      "execution_count": 1,
      "metadata": {
        "colab": {
          "base_uri": "https://localhost:8080/"
        },
        "id": "-re6JnCtDiqJ",
        "outputId": "79ae2741-e52c-4ab5-d9a7-530681ffb4b4"
      },
      "outputs": [
        {
          "output_type": "stream",
          "name": "stdout",
          "text": [
            "Requirement already satisfied: torchsummary in /usr/local/lib/python3.10/dist-packages (1.5.1)\n"
          ]
        }
      ],
      "source": [
        "# Run the command in the terminal if it failed on local Jupyter Notebook, remove \"!\" before each line\n",
        "!pip install torchsummary"
      ]
    },
    {
      "cell_type": "code",
      "execution_count": 10,
      "metadata": {
        "id": "mc2dzDlI_-6x"
      },
      "outputs": [],
      "source": [
        "import numpy as np\n",
        "import matplotlib.pyplot as plt\n",
        "from tqdm import tqdm # Displays a progress bar\n",
        "\n",
        "import torch\n",
        "from torch import nn\n",
        "from torch import optim\n",
        "import torch.nn.functional as F\n",
        "from torchsummary import summary\n",
        "from torchvision import datasets, transforms\n",
        "from torch.utils.data import Dataset, Subset, DataLoader, random_split\n",
        "import math\n",
        "import torch.nn as nn\n",
        "import torchvision.models as models"
      ]
    },
    {
      "cell_type": "code",
      "execution_count": 3,
      "metadata": {
        "id": "WvC_h1RpCuXN",
        "colab": {
          "base_uri": "https://localhost:8080/"
        },
        "outputId": "ddbc6f1d-46cd-428f-89c1-ab724adc5484"
      },
      "outputs": [
        {
          "output_type": "stream",
          "name": "stdout",
          "text": [
            "Using the GPU. You are good to go!\n"
          ]
        }
      ],
      "source": [
        "if torch.cuda.is_available():\n",
        "    print(\"Using the GPU. You are good to go!\")\n",
        "    device = 'cuda'\n",
        "else:\n",
        "    print(\"Using the CPU. Overall speed may be slowed down\")\n",
        "    device = 'cpu'"
      ]
    },
    {
      "cell_type": "markdown",
      "metadata": {
        "id": "ZMKs1--aAe9c"
      },
      "source": [
        "## Loading Dataset\n",
        "Mount the cwd to drive, access the train folder and load the images"
      ]
    },
    {
      "cell_type": "code",
      "execution_count": 4,
      "metadata": {
        "id": "Tbwq9R1cAbnc",
        "colab": {
          "base_uri": "https://localhost:8080/"
        },
        "outputId": "d7688bc4-00f8-450c-b909-09e657538851"
      },
      "outputs": [
        {
          "output_type": "stream",
          "name": "stdout",
          "text": [
            "Mounted at /content/drive\n",
            "/content/drive/MyDrive/442final/train/resized_countries_reshape\n",
            "0 1 2 3 4 5 6 7 8 9 10 11 12 13 14 15 16 17 18 19 20 21 22 23 24 25 26 27 28 29 30 31 32 33 34 35 36 37 38 39 40 41 42 43 44 45 46 47 48 49 50 51 52 53 54 \n",
            "17975\n",
            "17975\n",
            "/content/drive/MyDrive/442final/train/resized_countries_reshape\n",
            "0 1 2 3 4 5 6 7 8 9 10 11 12 13 14 15 16 17 18 19 20 21 22 23 24 25 26 27 28 29 30 31 32 33 34 35 36 37 38 39 40 41 42 43 44 45 46 47 48 49 50 51 52 53 54 \n",
            "7171\n",
            "7171\n",
            "Number of training images 17975, number of testing images 7171\n",
            "Done!\n"
          ]
        }
      ],
      "source": [
        "from google.colab import drive\n",
        "drive.mount('/content/drive')\n",
        "\n",
        "# !pip install gitpython > /dev/null 2>&1\n",
        "# !apt-get install -y -qq git > /dev/null 2>&1\n",
        "\n",
        "import os\n",
        "import glob\n",
        "import random\n",
        "from PIL import Image\n",
        "\n",
        "\n",
        "# print(os.getcwd())\n",
        "# ! ls\n",
        "# ! cd drive/MyDrive/442final\n",
        "# print(os.getcwd())\n",
        "\n",
        "data_directory = \"/drive/MyDrive/442final/train/resized_countries_reshape\"\n",
        "\n",
        "batch_size = 32\n",
        "img_width = 148\n",
        "img_height = 64\n",
        "epochs = 30\n",
        "\n",
        "img_target_scale = 0.2\n",
        "img_target_width = int(math.floor(img_width * img_target_scale))\n",
        "img_target_height= int(math.floor(img_height * img_target_scale))\n",
        "\n",
        "class get_Images(Dataset):\n",
        "  def __init__(self, root_dir, split='train', percentage=0.7, transform=None):\n",
        "    \"\"\"\n",
        "    Args:\n",
        "        root_dir: the directory of the dataset\n",
        "        split: \"train\" or \"val\"\n",
        "        transform: pytorch transformations.\n",
        "    \"\"\"\n",
        "    self.files = []\n",
        "    self.labels = []\n",
        "\n",
        "    # if split=='val':\n",
        "    #   percentage = 1 - percentage\n",
        "\n",
        "    self.transform = transform\n",
        "    print(root_dir)\n",
        "    for idx, country in enumerate(os.listdir(root_dir)):\n",
        "      print(idx, end=' ')\n",
        "      # Check if the item is a directory\n",
        "      files_in_dir = np.load(root_dir+'/'+country).astype(np.float32)\n",
        "      # print(files_in_dir.dtype)\n",
        "      # Randomly sample a certain percentage of files\n",
        "      num_files_to_take = int(len(files_in_dir) * percentage)\n",
        "      # Append the sampled file paths to the list\n",
        "      if split=='train':\n",
        "        self.files.extend(files_in_dir[:num_files_to_take])\n",
        "      else:\n",
        "        num_files = len(files_in_dir)\n",
        "        self.files.extend(files_in_dir[num_files - num_files_to_take:])\n",
        "\n",
        "      # self.files.extend(glob.glob(os.path.join(root_dir, country, '*.jpg')))\n",
        "      self.labels.extend([idx] * num_files_to_take)\n",
        "    print()\n",
        "    print(len(self.files))\n",
        "    print(len(self.labels))\n",
        "  def __len__(self):\n",
        "    return len(self.files)\n",
        "\n",
        "  def __getitem__(self, idx):\n",
        "    # img_path = self.files[idx]\n",
        "    label = self.labels[idx]\n",
        "    # img = Image.open(img_path)\n",
        "    # if self.transform:\n",
        "    #     img = self.transform(img)\n",
        "    return {'image': self.files[idx], 'label': label}\n",
        "\n",
        "transform = transforms.Compose([\n",
        "        transforms.ToTensor(),\n",
        "        transforms.Normalize(mean=(0.5, 0.5, 0.5), std=(0.5, 0.5, 0.5))\n",
        "])\n",
        "\n",
        "###########################################################################\n",
        "# TODO: Construct the dataloader                                          #\n",
        "# For the train_loader, please use a batch size of 4 and set shuffle True #\n",
        "# For the val_loader, please use a batch size of 5 and set shuffle False  #\n",
        "# Hint: You'll need to create instances of the class above, name them as  #\n",
        "# tr_dt and te_dt. The dataloaders should be named as train_loader and    #\n",
        "# test_loader. You also need to include transform in your class           #\n",
        "#instances                                                                #\n",
        "###########################################################################\n",
        "\n",
        "tr_dt = get_Images(os.getcwd() + data_directory, split='train', percentage=0.5,  transform=transform)\n",
        "te_dt = get_Images(os.getcwd() + data_directory, split='val', percentage=0.2, transform=transform)\n",
        "\n",
        "train_loader = DataLoader(tr_dt, batch_size=4, shuffle=True)\n",
        "test_loader = DataLoader(te_dt, batch_size=5, shuffle=False)\n",
        "\n",
        "###########################################################################\n",
        "#                              END OF YOUR CODE                           #\n",
        "###########################################################################\n",
        "\n",
        "print('Number of training images {}, number of testing images {}'.format(len(tr_dt), len(te_dt)))\n",
        "\n",
        "print(\"Done!\")"
      ]
    },
    {
      "cell_type": "markdown",
      "metadata": {
        "id": "f6rcDO7VCQ_q"
      },
      "source": [
        "## Model\n",
        "CHANGE THIS TO GET THE MODEL TO RUN"
      ]
    },
    {
      "cell_type": "code",
      "execution_count": 11,
      "metadata": {
        "id": "Hz0BSR9xCNiX",
        "colab": {
          "base_uri": "https://localhost:8080/"
        },
        "outputId": "e18ce17e-7d92-4900-a168-d6ce10d2ea35"
      },
      "outputs": [
        {
          "output_type": "stream",
          "name": "stderr",
          "text": [
            "/usr/local/lib/python3.10/dist-packages/torchvision/models/_utils.py:208: UserWarning: The parameter 'pretrained' is deprecated since 0.13 and may be removed in the future, please use 'weights' instead.\n",
            "  warnings.warn(\n",
            "/usr/local/lib/python3.10/dist-packages/torchvision/models/_utils.py:223: UserWarning: Arguments other than a weight enum or `None` for 'weights' are deprecated since 0.13 and may be removed in the future. The current behavior is equivalent to passing `weights=AlexNet_Weights.IMAGENET1K_V1`. You can also use `weights=AlexNet_Weights.DEFAULT` to get the most up-to-date weights.\n",
            "  warnings.warn(msg)\n",
            "Downloading: \"https://download.pytorch.org/models/alexnet-owt-7be5be79.pth\" to /root/.cache/torch/hub/checkpoints/alexnet-owt-7be5be79.pth\n",
            "100%|██████████| 233M/233M [00:06<00:00, 37.8MB/s]\n"
          ]
        },
        {
          "output_type": "stream",
          "name": "stdout",
          "text": [
            "AlexNet(\n",
            "  (features): Sequential(\n",
            "    (0): Conv2d(3, 64, kernel_size=(11, 11), stride=(4, 4), padding=(2, 2))\n",
            "    (1): ReLU(inplace=True)\n",
            "    (2): MaxPool2d(kernel_size=3, stride=2, padding=0, dilation=1, ceil_mode=False)\n",
            "    (3): Conv2d(64, 192, kernel_size=(5, 5), stride=(1, 1), padding=(2, 2))\n",
            "    (4): ReLU(inplace=True)\n",
            "    (5): MaxPool2d(kernel_size=3, stride=2, padding=0, dilation=1, ceil_mode=False)\n",
            "    (6): Conv2d(192, 384, kernel_size=(3, 3), stride=(1, 1), padding=(1, 1))\n",
            "    (7): ReLU(inplace=True)\n",
            "    (8): Conv2d(384, 256, kernel_size=(3, 3), stride=(1, 1), padding=(1, 1))\n",
            "    (9): ReLU(inplace=True)\n",
            "    (10): Conv2d(256, 256, kernel_size=(3, 3), stride=(1, 1), padding=(1, 1))\n",
            "    (11): ReLU(inplace=True)\n",
            "    (12): MaxPool2d(kernel_size=3, stride=2, padding=0, dilation=1, ceil_mode=False)\n",
            "  )\n",
            "  (avgpool): AdaptiveAvgPool2d(output_size=(6, 6))\n",
            "  (classifier): Sequential(\n",
            "    (0): Dropout(p=0.5, inplace=False)\n",
            "    (1): Linear(in_features=9216, out_features=4096, bias=True)\n",
            "    (2): ReLU(inplace=True)\n",
            "    (3): Dropout(p=0.5, inplace=False)\n",
            "    (4): Linear(in_features=4096, out_features=4096, bias=True)\n",
            "    (5): ReLU(inplace=True)\n",
            "    (6): Linear(in_features=4096, out_features=1000, bias=True)\n",
            "  )\n",
            ")\n",
            "AlexNet(\n",
            "  (features): Sequential(\n",
            "    (0): Conv2d(3, 64, kernel_size=(11, 11), stride=(4, 4), padding=(2, 2))\n",
            "    (1): ReLU(inplace=True)\n",
            "    (2): MaxPool2d(kernel_size=3, stride=2, padding=0, dilation=1, ceil_mode=False)\n",
            "    (3): Conv2d(64, 192, kernel_size=(5, 5), stride=(1, 1), padding=(2, 2))\n",
            "    (4): ReLU(inplace=True)\n",
            "    (5): MaxPool2d(kernel_size=3, stride=2, padding=0, dilation=1, ceil_mode=False)\n",
            "    (6): Conv2d(192, 384, kernel_size=(3, 3), stride=(1, 1), padding=(1, 1))\n",
            "    (7): ReLU(inplace=True)\n",
            "    (8): Conv2d(384, 256, kernel_size=(3, 3), stride=(1, 1), padding=(1, 1))\n",
            "    (9): ReLU(inplace=True)\n",
            "    (10): Conv2d(256, 256, kernel_size=(3, 3), stride=(1, 1), padding=(1, 1))\n",
            "    (11): ReLU(inplace=True)\n",
            "    (12): MaxPool2d(kernel_size=3, stride=2, padding=0, dilation=1, ceil_mode=False)\n",
            "  )\n",
            "  (avgpool): AdaptiveAvgPool2d(output_size=(6, 6))\n",
            "  (classifier): Sequential(\n",
            "    (0): Dropout(p=0.5, inplace=False)\n",
            "    (1): Linear(in_features=9216, out_features=4096, bias=True)\n",
            "    (2): ReLU(inplace=True)\n",
            "    (3): Dropout(p=0.5, inplace=False)\n",
            "    (4): Linear(in_features=4096, out_features=4096, bias=True)\n",
            "    (5): ReLU(inplace=True)\n",
            "    (6): Linear(in_features=4096, out_features=55, bias=True)\n",
            "  )\n",
            ")\n"
          ]
        }
      ],
      "source": [
        "class Network(nn.Module):\n",
        "    def __init__(self):\n",
        "        super().__init__()\n",
        "        ##############################################################################\n",
        "        # TODO: Design your own network, define layers here.                          #\n",
        "        # Here We provide a sample of two-layer fc network from HW4 Part3.           #\n",
        "        # Your solution, however, should contain convolutional layers.               #\n",
        "        # Refer to PyTorch documentations of torch.nn to pick your layers.           #\n",
        "        # (https://pytorch.org/docs/stable/nn.html)                                  #\n",
        "        # Some common choices: Linear, Conv2d, ReLU, MaxPool2d, AvgPool2d, Dropout   #\n",
        "        # If you have many layers, use nn.Sequential() to simplify your code         #\n",
        "        ##############################################################################\n",
        "        self.flatten = nn.Flatten()\n",
        "        self.conv_relu_stack = nn.Sequential(\n",
        "            nn.Conv2d(3, 4, kernel_size=3),\n",
        "            nn.ReLU(),\n",
        "            # nn.AvgPool2d(kernel_size=5, stride=3),\n",
        "            nn.Conv2d(4, 4, kernel_size=3),\n",
        "            nn.ReLU(),\n",
        "            nn.AvgPool2d(kernel_size=20, stride=3),\n",
        "            nn.Flatten(),\n",
        "            nn.Linear(2352 , 128),  # Adjust the input size according to your desired dimensions\n",
        "            nn.ReLU(),\n",
        "            nn.Linear(128, 55)\n",
        "          )\n",
        "        ##############################################################################\n",
        "        #                             END OF YOUR CODE                               #\n",
        "        ##############################################################################\n",
        "\n",
        "    def forward(self, x):\n",
        "        ##############################################################################\n",
        "        # TODO: Design your own network, implement forward pass here                 #\n",
        "        ##############################################################################\n",
        "        x = self.conv_relu_stack(x)\n",
        "        return x\n",
        "        ##############################################################################\n",
        "        #                             END OF YOUR CODE                               #\n",
        "        ##############################################################################\n",
        "\n",
        "# model = Network().to(device)\n",
        "alexnet = models.alexnet(pretrained=True)\n",
        "\n",
        "print(alexnet)\n",
        "\n",
        "# Freeze all layers except the last three\n",
        "for param in alexnet.parameters():\n",
        "    param.requires_grad = False\n",
        "\n",
        "# Modify the last three layers to be trainable\n",
        "num_features = alexnet.classifier[6].in_features\n",
        "alexnet.classifier[6] = nn.Linear(num_features, 55)  # Change the output size to 55 classes\n",
        "\n",
        "# Print the modified AlexNet architecture\n",
        "print(alexnet)\n",
        "criterion = nn.CrossEntropyLoss() # Specify the loss layer\n",
        "# print('Your network:')\n",
        "# print(summary(model, (3,148,64), device=device)) # visualize your model\n",
        "\n",
        "##############################################################################\n",
        "# TODO: Modify the lines below to experiment with different optimizers,      #\n",
        "# parameters (such as learning rate) and number of epochs.                   #\n",
        "##############################################################################\n",
        "# Set up optimization hyperparameters\n",
        "learning_rate, weight_decay, num_epoch = 0.001, 0.0001, 10\n",
        "optimizer = optim.Adam(alexnet.parameters(), learning_rate)\n",
        "##############################################################################\n",
        "#                             END OF YOUR CODE                               #\n",
        "##############################################################################"
      ]
    },
    {
      "cell_type": "markdown",
      "metadata": {
        "id": "xq9fTZiuDJ3I"
      },
      "source": [
        "Run the cell below to start your training, we expect you to achieve over **85%** on the test set. A valid solution that meet the requirement take no more than **10 minutes** on normal PC Intel core CPU setting. If your solution takes too long to train, try to simplify your model or reduce the number of epochs."
      ]
    },
    {
      "cell_type": "code",
      "execution_count": 12,
      "metadata": {
        "colab": {
          "base_uri": "https://localhost:8080/"
        },
        "id": "hOFaEvBDDHzQ",
        "scrolled": true,
        "outputId": "e8dcea4b-767c-4e51-cee9-6ef404a5208d"
      },
      "outputs": [
        {
          "output_type": "stream",
          "name": "stdout",
          "text": [
            "Start training...\n",
            "-----------------Epoch = 1-----------------\n"
          ]
        },
        {
          "output_type": "stream",
          "name": "stderr",
          "text": [
            "100%|██████████| 4494/4494 [00:09<00:00, 474.34it/s]\n"
          ]
        },
        {
          "output_type": "stream",
          "name": "stdout",
          "text": [
            "\n",
            " Epoch 1 loss:3.081918734574668\n"
          ]
        },
        {
          "output_type": "stream",
          "name": "stderr",
          "text": [
            "100%|██████████| 4494/4494 [00:04<00:00, 1104.81it/s]\n"
          ]
        },
        {
          "output_type": "stream",
          "name": "stdout",
          "text": [
            "\n",
            " Evaluation accuracy: 0.1904867872044506\n",
            "\n",
            " Evaluate on validation set...\n"
          ]
        },
        {
          "output_type": "stream",
          "name": "stderr",
          "text": [
            "100%|██████████| 1435/1435 [00:01<00:00, 1011.58it/s]\n"
          ]
        },
        {
          "output_type": "stream",
          "name": "stdout",
          "text": [
            "\n",
            " Evaluation accuracy: 0.1684562822479431\n",
            "-----------------Epoch = 2-----------------\n"
          ]
        },
        {
          "output_type": "stream",
          "name": "stderr",
          "text": [
            "100%|██████████| 4494/4494 [00:09<00:00, 467.76it/s]\n"
          ]
        },
        {
          "output_type": "stream",
          "name": "stdout",
          "text": [
            "\n",
            " Epoch 2 loss:3.081823125859606\n"
          ]
        },
        {
          "output_type": "stream",
          "name": "stderr",
          "text": [
            "100%|██████████| 4494/4494 [00:03<00:00, 1135.57it/s]\n"
          ]
        },
        {
          "output_type": "stream",
          "name": "stdout",
          "text": [
            "\n",
            " Evaluation accuracy: 0.1904867872044506\n",
            "\n",
            " Evaluate on validation set...\n"
          ]
        },
        {
          "output_type": "stream",
          "name": "stderr",
          "text": [
            "100%|██████████| 1435/1435 [00:01<00:00, 1047.85it/s]\n"
          ]
        },
        {
          "output_type": "stream",
          "name": "stdout",
          "text": [
            "\n",
            " Evaluation accuracy: 0.1684562822479431\n",
            "-----------------Epoch = 3-----------------\n"
          ]
        },
        {
          "output_type": "stream",
          "name": "stderr",
          "text": [
            "100%|██████████| 4494/4494 [00:10<00:00, 422.78it/s]\n"
          ]
        },
        {
          "output_type": "stream",
          "name": "stdout",
          "text": [
            "\n",
            " Epoch 3 loss:3.081855758328304\n"
          ]
        },
        {
          "output_type": "stream",
          "name": "stderr",
          "text": [
            "100%|██████████| 4494/4494 [00:04<00:00, 1050.45it/s]\n"
          ]
        },
        {
          "output_type": "stream",
          "name": "stdout",
          "text": [
            "\n",
            " Evaluation accuracy: 0.1904867872044506\n",
            "\n",
            " Evaluate on validation set...\n"
          ]
        },
        {
          "output_type": "stream",
          "name": "stderr",
          "text": [
            "100%|██████████| 1435/1435 [00:01<00:00, 948.53it/s] \n"
          ]
        },
        {
          "output_type": "stream",
          "name": "stdout",
          "text": [
            "\n",
            " Evaluation accuracy: 0.1684562822479431\n",
            "-----------------Epoch = 4-----------------\n"
          ]
        },
        {
          "output_type": "stream",
          "name": "stderr",
          "text": [
            "100%|██████████| 4494/4494 [00:09<00:00, 470.55it/s]\n"
          ]
        },
        {
          "output_type": "stream",
          "name": "stdout",
          "text": [
            "\n",
            " Epoch 4 loss:3.0818783488069896\n"
          ]
        },
        {
          "output_type": "stream",
          "name": "stderr",
          "text": [
            "100%|██████████| 4494/4494 [00:06<00:00, 674.86it/s]\n"
          ]
        },
        {
          "output_type": "stream",
          "name": "stdout",
          "text": [
            "\n",
            " Evaluation accuracy: 0.1904867872044506\n",
            "\n",
            " Evaluate on validation set...\n"
          ]
        },
        {
          "output_type": "stream",
          "name": "stderr",
          "text": [
            "100%|██████████| 1435/1435 [00:01<00:00, 957.76it/s] \n"
          ]
        },
        {
          "output_type": "stream",
          "name": "stdout",
          "text": [
            "\n",
            " Evaluation accuracy: 0.1684562822479431\n",
            "-----------------Epoch = 5-----------------\n"
          ]
        },
        {
          "output_type": "stream",
          "name": "stderr",
          "text": [
            "100%|██████████| 4494/4494 [00:09<00:00, 498.67it/s]\n"
          ]
        },
        {
          "output_type": "stream",
          "name": "stdout",
          "text": [
            "\n",
            " Epoch 5 loss:3.081874860834428\n"
          ]
        },
        {
          "output_type": "stream",
          "name": "stderr",
          "text": [
            "100%|██████████| 4494/4494 [00:04<00:00, 958.55it/s] \n"
          ]
        },
        {
          "output_type": "stream",
          "name": "stdout",
          "text": [
            "\n",
            " Evaluation accuracy: 0.1904867872044506\n",
            "\n",
            " Evaluate on validation set...\n"
          ]
        },
        {
          "output_type": "stream",
          "name": "stderr",
          "text": [
            "100%|██████████| 1435/1435 [00:01<00:00, 1010.74it/s]\n"
          ]
        },
        {
          "output_type": "stream",
          "name": "stdout",
          "text": [
            "\n",
            " Evaluation accuracy: 0.1684562822479431\n",
            "-----------------Epoch = 6-----------------\n"
          ]
        },
        {
          "output_type": "stream",
          "name": "stderr",
          "text": [
            "100%|██████████| 4494/4494 [00:09<00:00, 481.34it/s]\n"
          ]
        },
        {
          "output_type": "stream",
          "name": "stdout",
          "text": [
            "\n",
            " Epoch 6 loss:3.081861820521225\n"
          ]
        },
        {
          "output_type": "stream",
          "name": "stderr",
          "text": [
            "100%|██████████| 4494/4494 [00:04<00:00, 1045.57it/s]\n"
          ]
        },
        {
          "output_type": "stream",
          "name": "stdout",
          "text": [
            "\n",
            " Evaluation accuracy: 0.1904867872044506\n",
            "\n",
            " Evaluate on validation set...\n"
          ]
        },
        {
          "output_type": "stream",
          "name": "stderr",
          "text": [
            "100%|██████████| 1435/1435 [00:01<00:00, 1032.31it/s]\n"
          ]
        },
        {
          "output_type": "stream",
          "name": "stdout",
          "text": [
            "\n",
            " Evaluation accuracy: 0.1684562822479431\n",
            "-----------------Epoch = 7-----------------\n"
          ]
        },
        {
          "output_type": "stream",
          "name": "stderr",
          "text": [
            "100%|██████████| 4494/4494 [00:09<00:00, 471.13it/s]\n"
          ]
        },
        {
          "output_type": "stream",
          "name": "stdout",
          "text": [
            "\n",
            " Epoch 7 loss:3.081851447058297\n"
          ]
        },
        {
          "output_type": "stream",
          "name": "stderr",
          "text": [
            "100%|██████████| 4494/4494 [00:03<00:00, 1144.86it/s]\n"
          ]
        },
        {
          "output_type": "stream",
          "name": "stdout",
          "text": [
            "\n",
            " Evaluation accuracy: 0.1904867872044506\n",
            "\n",
            " Evaluate on validation set...\n"
          ]
        },
        {
          "output_type": "stream",
          "name": "stderr",
          "text": [
            "100%|██████████| 1435/1435 [00:01<00:00, 1032.38it/s]\n"
          ]
        },
        {
          "output_type": "stream",
          "name": "stdout",
          "text": [
            "\n",
            " Evaluation accuracy: 0.1684562822479431\n",
            "-----------------Epoch = 8-----------------\n"
          ]
        },
        {
          "output_type": "stream",
          "name": "stderr",
          "text": [
            "100%|██████████| 4494/4494 [00:09<00:00, 466.17it/s]\n"
          ]
        },
        {
          "output_type": "stream",
          "name": "stdout",
          "text": [
            "\n",
            " Epoch 8 loss:3.081858671104107\n"
          ]
        },
        {
          "output_type": "stream",
          "name": "stderr",
          "text": [
            "100%|██████████| 4494/4494 [00:03<00:00, 1132.15it/s]\n"
          ]
        },
        {
          "output_type": "stream",
          "name": "stdout",
          "text": [
            "\n",
            " Evaluation accuracy: 0.1904867872044506\n",
            "\n",
            " Evaluate on validation set...\n"
          ]
        },
        {
          "output_type": "stream",
          "name": "stderr",
          "text": [
            "100%|██████████| 1435/1435 [00:01<00:00, 1061.01it/s]\n"
          ]
        },
        {
          "output_type": "stream",
          "name": "stdout",
          "text": [
            "\n",
            " Evaluation accuracy: 0.1684562822479431\n",
            "-----------------Epoch = 9-----------------\n"
          ]
        },
        {
          "output_type": "stream",
          "name": "stderr",
          "text": [
            "100%|██████████| 4494/4494 [00:09<00:00, 471.05it/s]\n"
          ]
        },
        {
          "output_type": "stream",
          "name": "stdout",
          "text": [
            "\n",
            " Epoch 9 loss:3.0819053789430795\n"
          ]
        },
        {
          "output_type": "stream",
          "name": "stderr",
          "text": [
            "100%|██████████| 4494/4494 [00:04<00:00, 1119.99it/s]\n"
          ]
        },
        {
          "output_type": "stream",
          "name": "stdout",
          "text": [
            "\n",
            " Evaluation accuracy: 0.1904867872044506\n",
            "\n",
            " Evaluate on validation set...\n"
          ]
        },
        {
          "output_type": "stream",
          "name": "stderr",
          "text": [
            "100%|██████████| 1435/1435 [00:01<00:00, 951.91it/s]\n"
          ]
        },
        {
          "output_type": "stream",
          "name": "stdout",
          "text": [
            "\n",
            " Evaluation accuracy: 0.1684562822479431\n",
            "-----------------Epoch = 10-----------------\n"
          ]
        },
        {
          "output_type": "stream",
          "name": "stderr",
          "text": [
            "100%|██████████| 4494/4494 [00:09<00:00, 461.87it/s]\n"
          ]
        },
        {
          "output_type": "stream",
          "name": "stdout",
          "text": [
            "\n",
            " Epoch 10 loss:3.0818562983511604\n"
          ]
        },
        {
          "output_type": "stream",
          "name": "stderr",
          "text": [
            "100%|██████████| 4494/4494 [00:04<00:00, 1061.79it/s]\n"
          ]
        },
        {
          "output_type": "stream",
          "name": "stdout",
          "text": [
            "\n",
            " Evaluation accuracy: 0.1904867872044506\n",
            "\n",
            " Evaluate on validation set...\n"
          ]
        },
        {
          "output_type": "stream",
          "name": "stderr",
          "text": [
            "100%|██████████| 1435/1435 [00:01<00:00, 821.52it/s]"
          ]
        },
        {
          "output_type": "stream",
          "name": "stdout",
          "text": [
            "\n",
            " Evaluation accuracy: 0.1684562822479431\n",
            "Done!\n",
            "\n",
            " Evaluate on test set\n",
            "CPU times: user 2min 25s, sys: 2.68 s, total: 2min 28s\n",
            "Wall time: 2min 35s\n"
          ]
        },
        {
          "output_type": "stream",
          "name": "stderr",
          "text": [
            "\n"
          ]
        }
      ],
      "source": [
        "%%time\n",
        "def train(model, trainloader, valloader, num_epoch=10):  # Train the model\n",
        "    print(\"Start training...\")\n",
        "    trn_loss_hist = []\n",
        "    trn_acc_hist = []\n",
        "    val_acc_hist = []\n",
        "    model.train()  # Set the model to training mode\n",
        "    for i in range(num_epoch):\n",
        "        running_loss = []\n",
        "        print('-----------------Epoch = %d-----------------' % (i+1))\n",
        "        # print(len(tqdm(trainloader)))\n",
        "        # for i in tqdm(trainloader):\n",
        "        #   print(i)\n",
        "        for input in tqdm(trainloader):\n",
        "            # print(batch, label)\n",
        "            # print(batch)\n",
        "            batch, label = input['image'], input['label']\n",
        "            # print(batch)\n",
        "            # print(label)\n",
        "            batch = batch.to(device)\n",
        "            label = label.to(device)\n",
        "            optimizer.zero_grad()  # Clear gradients from the previous iteration\n",
        "            # This will call Network.forward() that you implement\n",
        "            pred = model(batch)\n",
        "            loss = criterion(pred, label)  # Calculate the loss\n",
        "            running_loss.append(loss.item())\n",
        "            loss.backward()  # Backprop gradients to all tensors in the network\n",
        "            optimizer.step()  # Update trainable weights\n",
        "        print(\"\\n Epoch {} loss:{}\".format(i+1, np.mean(running_loss)))\n",
        "\n",
        "        # Keep track of training loss, accuracy, and validation loss\n",
        "        trn_loss_hist.append(np.mean(running_loss))\n",
        "        trn_acc_hist.append(evaluate(model, trainloader))\n",
        "        print(\"\\n Evaluate on validation set...\")\n",
        "        val_acc_hist.append(evaluate(model, valloader))\n",
        "    print(\"Done!\")\n",
        "    return trn_loss_hist, trn_acc_hist, val_acc_hist\n",
        "\n",
        "\n",
        "def evaluate(model, loader):  # Evaluate accuracy on validation / test set\n",
        "    model.eval()  # Set the model to evaluation mode\n",
        "    correct = 0\n",
        "    with torch.no_grad():  # Do not calculate grident to speed up computation\n",
        "        for input in tqdm(loader):\n",
        "            batch, label = input['image'], input['label']\n",
        "            batch = batch.to(device)\n",
        "            label = label.to(device)\n",
        "            pred = model(batch)\n",
        "            correct += (torch.argmax(pred, dim=1) == label).sum().item()\n",
        "        acc = correct/len(loader.dataset)\n",
        "        print(\"\\n Evaluation accuracy: {}\".format(acc))\n",
        "        return acc\n",
        "\n",
        "\n",
        "trn_loss_hist, trn_acc_hist, val_acc_hist = train(model, train_loader,\n",
        "                                                  test_loader, num_epoch)\n",
        "\n",
        "##############################################################################\n",
        "# TODO: Note down the evaluation accuracy on test set                        #\n",
        "##############################################################################\n",
        "print(\"\\n Evaluate on test set\")\n",
        "# evaluate(model, testloader)"
      ]
    },
    {
      "cell_type": "markdown",
      "metadata": {
        "id": "kwDhwaydQR1Q"
      },
      "source": [
        "Once your training is complete, run the cell below to visualize the training and validation accuracies across iterations."
      ]
    },
    {
      "cell_type": "code",
      "execution_count": 13,
      "metadata": {
        "id": "1lYqngdtPQB8",
        "colab": {
          "base_uri": "https://localhost:8080/",
          "height": 487
        },
        "outputId": "d57e0cdf-bda7-499e-a115-5964b60f2859"
      },
      "outputs": [
        {
          "output_type": "display_data",
          "data": {
            "text/plain": [
              "<Figure size 1000x500 with 1 Axes>"
            ],
            "image/png": "[encoded data removed]"
          },
          "metadata": {}
        }
      ],
      "source": [
        "##############################################################################\n",
        "# TODO: Submit the accuracy plot                                             #\n",
        "##############################################################################\n",
        "# visualize the training / validation accuracies\n",
        "x = np.arange(num_epoch)\n",
        "# train/val accuracies for MiniVGG\n",
        "plt.figure()\n",
        "plt.plot(x, trn_acc_hist)\n",
        "plt.plot(x, val_acc_hist)\n",
        "plt.legend(['Training', 'Validation'])\n",
        "plt.xticks(x)\n",
        "plt.xlabel('Epoch')\n",
        "plt.ylabel('Accuracy')\n",
        "plt.title('fashion MNIST Classification')\n",
        "plt.gcf().set_size_inches(10, 5)\n",
        "plt.savefig('part1.png', dpi=300)\n",
        "plt.show()"
      ]
    }
  ],
  "metadata": {
    "colab": {
      "provenance": [],
      "gpuType": "T4"
    },
    "kernelspec": {
      "display_name": "Python 3",
      "name": "python3"
    },
    "language_info": {
      "codemirror_mode": {
        "name": "ipython",
        "version": 3
      },
      "file_extension": ".py",
      "mimetype": "text/x-python",
      "name": "python",
      "nbconvert_exporter": "python",
      "pygments_lexer": "ipython3",
      "version": "3.10.10"
    },
    "vscode": {
      "interpreter": {
        "hash": "9d34995e9b9aacf7236904ea7ddf7585a36f6be47e873dd30641939c3248d078"
      }
    },
    "accelerator": "GPU"
  },
  "nbformat": 4,
  "nbformat_minor": 0
}