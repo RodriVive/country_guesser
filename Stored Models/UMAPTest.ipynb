{
  "cells": [
    {
      "cell_type": "markdown",
      "metadata": {
        "id": "t84tK2fjAGux"
      },
      "source": [
        "# EECS 442 FINAL: Geoguessr Neural Network"
      ]
    },
    {
      "cell_type": "markdown",
      "metadata": {
        "id": "b8zMyTMC0VDm"
      },
      "source": [
        "## Setup"
      ]
    },
    {
      "cell_type": "code",
      "execution_count": null,
      "metadata": {
        "colab": {
          "base_uri": "https://localhost:8080/"
        },
        "id": "-re6JnCtDiqJ",
        "outputId": "c604ac95-922d-4ef9-9db9-6c6b0291ec50"
      },
      "outputs": [
        {
          "output_type": "stream",
          "name": "stdout",
          "text": [
            "Requirement already satisfied: torchsummary in /usr/local/lib/python3.10/dist-packages (1.5.1)\n"
          ]
        }
      ],
      "source": [
        "# Run the command in the terminal if it failed on local Jupyter Notebook, remove \"!\" before each line\n",
        "!pip install torchsummary"
      ]
    },
    {
      "cell_type": "code",
      "execution_count": null,
      "metadata": {
        "id": "mc2dzDlI_-6x"
      },
      "outputs": [],
      "source": [
        "import numpy as np\n",
        "import matplotlib.pyplot as plt\n",
        "from tqdm import tqdm # Displays a progress bar\n",
        "\n",
        "import torch\n",
        "from torch import nn\n",
        "from torch import optim\n",
        "import torch.nn.functional as F\n",
        "from torchsummary import summary\n",
        "from torchvision import datasets, transforms\n",
        "from torch.utils.data import Dataset, Subset, DataLoader, random_split\n",
        "import math\n",
        "import torch.nn as nn\n",
        "import torchvision.models as models"
      ]
    },
    {
      "cell_type": "code",
      "execution_count": null,
      "metadata": {
        "id": "WvC_h1RpCuXN",
        "colab": {
          "base_uri": "https://localhost:8080/"
        },
        "outputId": "37f61ed5-94fb-4441-eaff-bf479a946ee5"
      },
      "outputs": [
        {
          "output_type": "stream",
          "name": "stdout",
          "text": [
            "Using the GPU. You are good to go!\n"
          ]
        }
      ],
      "source": [
        "if torch.cuda.is_available():\n",
        "    print(\"Using the GPU. You are good to go!\")\n",
        "    device = 'cuda'\n",
        "else:\n",
        "    print(\"Using the CPU. Overall speed may be slowed down\")\n",
        "    device = 'cpu'"
      ]
    },
    {
      "cell_type": "markdown",
      "metadata": {
        "id": "ZMKs1--aAe9c"
      },
      "source": [
        "## Loading Dataset\n",
        "Mount the cwd to drive, access the train folder and load the images"
      ]
    },
    {
      "cell_type": "code",
      "execution_count": null,
      "metadata": {
        "id": "Tbwq9R1cAbnc",
        "colab": {
          "base_uri": "https://localhost:8080/"
        },
        "outputId": "df1e232a-19c7-4321-dca5-a041c45ba767"
      },
      "outputs": [
        {
          "output_type": "stream",
          "name": "stdout",
          "text": [
            "Mounted at /content/drive\n",
            "/content/drive/MyDrive/442final/train/resized_countries_reshape\n",
            "0 1 2 3 4 5 6 7 8 9 10 11 12 13 14 15 16 17 18 19 20 21 22 23 24 25 26 27 28 29 30 31 32 33 34 35 36 37 38 39 40 41 42 43 44 45 46 47 48 49 50 51 52 53 54 \n",
            "25160\n",
            "25160\n",
            "/content/drive/MyDrive/442final/train/resized_countries_reshape\n",
            "0 1 2 3 4 5 6 7 8 9 10 11 12 13 14 15 16 17 18 19 20 21 22 23 24 25 26 27 28 29 30 31 32 33 34 35 36 37 38 39 40 41 42 43 44 45 46 47 48 49 50 51 52 53 54 \n",
            "7171\n",
            "7171\n",
            "Number of training images 25160, number of testing images 7171\n",
            "Done!\n"
          ]
        }
      ],
      "source": [
        "from google.colab import drive\n",
        "drive.mount('/content/drive')\n",
        "\n",
        "# !pip install gitpython > /dev/null 2>&1\n",
        "# !apt-get install -y -qq git > /dev/null 2>&1\n",
        "\n",
        "import os\n",
        "import glob\n",
        "import random\n",
        "from PIL import Image\n",
        "\n",
        "\n",
        "# print(os.getcwd())\n",
        "# ! ls\n",
        "# ! cd drive/MyDrive/442final\n",
        "# print(os.getcwd())\n",
        "\n",
        "data_directory = \"/drive/MyDrive/442final/train/resized_countries_reshape\"\n",
        "\n",
        "batch_size = 32\n",
        "img_width = 148\n",
        "img_height = 64\n",
        "epochs = 30\n",
        "\n",
        "img_target_scale = 0.2\n",
        "img_target_width = int(math.floor(img_width * img_target_scale))\n",
        "img_target_height= int(math.floor(img_height * img_target_scale))\n",
        "\n",
        "class get_Images(Dataset):\n",
        "  def __init__(self, root_dir, split='train', percentage=0.7, transform=None):\n",
        "    \"\"\"\n",
        "    Args:\n",
        "        root_dir: the directory of the dataset\n",
        "        split: \"train\" or \"val\"\n",
        "        transform: pytorch transformations.\n",
        "    \"\"\"\n",
        "    self.files = []\n",
        "    self.labels = []\n",
        "\n",
        "    # if split=='val':\n",
        "    #   percentage = 1 - percentage\n",
        "\n",
        "    self.transform = transform\n",
        "    print(root_dir)\n",
        "    for idx, country in enumerate(os.listdir(root_dir)):\n",
        "      print(idx, end=' ')\n",
        "      # Check if the item is a directory\n",
        "      files_in_dir = np.load(root_dir+'/'+country).astype(np.float32)\n",
        "      # print(files_in_dir.dtype)\n",
        "      # Randomly sample a certain percentage of files\n",
        "      num_files_to_take = int(len(files_in_dir) * percentage)\n",
        "      # Append the sampled file paths to the list\n",
        "      if split=='train':\n",
        "        self.files.extend(files_in_dir[:num_files_to_take])\n",
        "      else:\n",
        "        num_files = len(files_in_dir)\n",
        "        self.files.extend(files_in_dir[num_files - num_files_to_take:])\n",
        "\n",
        "      # self.files.extend(glob.glob(os.path.join(root_dir, country, '*.jpg')))\n",
        "      self.labels.extend([idx] * num_files_to_take)\n",
        "    print()\n",
        "    print(len(self.files))\n",
        "    print(len(self.labels))\n",
        "  def __len__(self):\n",
        "    return len(self.files)\n",
        "\n",
        "  def __getitem__(self, idx):\n",
        "    # img_path = self.files[idx]\n",
        "    label = self.labels[idx]\n",
        "    # img = Image.open(img_path)\n",
        "    # if self.transform:\n",
        "    #     img = self.transform(img)\n",
        "    return {'image': self.files[idx], 'label': label}\n",
        "\n",
        "transform = transforms.Compose([\n",
        "        transforms.ToTensor(),\n",
        "        transforms.Normalize(mean=(0.5, 0.5, 0.5), std=(0.5, 0.5, 0.5))\n",
        "])\n",
        "\n",
        "###########################################################################\n",
        "# TODO: Construct the dataloader                                          #\n",
        "# For the train_loader, please use a batch size of 4 and set shuffle True #\n",
        "# For the val_loader, please use a batch size of 5 and set shuffle False  #\n",
        "# Hint: You'll need to create instances of the class above, name them as  #\n",
        "# tr_dt and te_dt. The dataloaders should be named as train_loader and    #\n",
        "# test_loader. You also need to include transform in your class           #\n",
        "#instances                                                                #\n",
        "###########################################################################\n",
        "\n",
        "tr_dt = get_Images(os.getcwd() + data_directory, split='train', percentage=0.7,  transform=transform)\n",
        "te_dt = get_Images(os.getcwd() + data_directory, split='val', percentage=0.2, transform=transform)\n",
        "\n",
        "train_loader = DataLoader(tr_dt, batch_size=32, shuffle=True)\n",
        "test_loader = DataLoader(te_dt, batch_size=32, shuffle=False)\n",
        "\n",
        "###########################################################################\n",
        "#                              END OF YOUR CODE                           #\n",
        "###########################################################################\n",
        "\n",
        "print('Number of training images {}, number of testing images {}'.format(len(tr_dt), len(te_dt)))\n",
        "\n",
        "print(\"Done!\")"
      ]
    },
    {
      "cell_type": "markdown",
      "metadata": {
        "id": "f6rcDO7VCQ_q"
      },
      "source": [
        "## Model\n",
        "CHANGE THIS TO GET THE MODEL TO RUN"
      ]
    },
    {
      "cell_type": "code",
      "execution_count": null,
      "metadata": {
        "id": "Hz0BSR9xCNiX"
      },
      "outputs": [],
      "source": [
        "import torch\n",
        "import torch.nn as nn\n",
        "import torch.optim as optim\n",
        "import torchvision.models as models\n",
        "\n",
        "class Network(nn.Module):\n",
        "    def __init__(self):\n",
        "        super().__init__()\n",
        "        # Load pre-trained DenseNet121\n",
        "        self.densenet = models.densenet121(pretrained=True)\n",
        "        # Freeze all layers\n",
        "        for param in self.densenet.parameters():\n",
        "            param.requires_grad = True\n",
        "        # Extract the first n layers\n",
        "        self.features = nn.Sequential(\n",
        "            #----------------I CHANGED THIS-----------------------\n",
        "            *list(self.densenet.features.children())[:60],\n",
        "            #-----------------------------------------------------\n",
        "            nn.Conv2d(3, 8, 3, 1, 1),\n",
        "            nn.ReLU(),\n",
        "            nn.Conv2d(8, 8, 3, 2, 1),\n",
        "            nn.ReLU(),\n",
        "            nn.Conv2d(8, 16, 3, 1, 1),\n",
        "            nn.ReLU(),\n",
        "            nn.Linear(512, 55)\n",
        "            )\n",
        "\n",
        "    def forward(self, x):\n",
        "        return self.densenet(x)\n",
        "\n",
        "# Instantiate the model\n",
        "model = Network()\n",
        "\n",
        "# Set up optimization hyperparameters\n",
        "\n",
        "#----------------I CHANGED THIS-----------------------\n",
        "learning_rate, weight_decay, num_epoch = 0.001, 1e-14, 10\n",
        "#-----------------------------------------------------\n",
        "optimizer = optim.Adam(model.parameters(), lr=learning_rate,weight_decay=weight_decay)\n",
        "\n",
        "# Specify the loss function\n",
        "criterion = nn.CrossEntropyLoss()\n",
        "\n",
        "# Move the model to GPU if available\n",
        "device = torch.device(\"cuda\" if torch.cuda.is_available() else \"cpu\")\n",
        "model.to(device)\n",
        "\n",
        "# Print the model architecture\n",
        "print(model)\n"
      ]
    },
    {
      "cell_type": "markdown",
      "metadata": {
        "id": "xq9fTZiuDJ3I"
      },
      "source": [
        "Run the cell below to start your training, we expect you to achieve over **85%** on the test set. A valid solution that meet the requirement take no more than **10 minutes** on normal PC Intel core CPU setting. If your solution takes too long to train, try to simplify your model or reduce the number of epochs."
      ]
    },
    {
      "cell_type": "code",
      "execution_count": null,
      "metadata": {
        "id": "hOFaEvBDDHzQ",
        "scrolled": true
      },
      "outputs": [],
      "source": [
        "%%time\n",
        "def train(model, trainloader, valloader, num_epoch=10):  # Train the model\n",
        "    print(\"Start training...\")\n",
        "    trn_loss_hist = []\n",
        "    trn_acc_hist = []\n",
        "    val_acc_hist = []\n",
        "    model.train()  # Set the model to training mode\n",
        "    for i in range(num_epoch):\n",
        "        running_loss = []\n",
        "        print('-----------------Epoch = %d-----------------' % (i+1))\n",
        "        # print(len(tqdm(trainloader)))\n",
        "        # for i in tqdm(trainloader):\n",
        "        #   print(i)\n",
        "        for input in tqdm(trainloader):\n",
        "            # print(batch, label)\n",
        "            # print(batch)\n",
        "            batch, label = input['image'], input['label']\n",
        "            # print(batch)\n",
        "            # print(label)\n",
        "            batch = batch.to(device)\n",
        "            label = label.to(device)\n",
        "            optimizer.zero_grad()  # Clear gradients from the previous iteration\n",
        "            # This will call Network.forward() that you implement\n",
        "            pred = model(batch)\n",
        "            loss = criterion(pred, label)  # Calculate the loss\n",
        "            running_loss.append(loss.item())\n",
        "            loss.backward()  # Backprop gradients to all tensors in the network\n",
        "            optimizer.step()  # Update trainable weights\n",
        "        print(\"\\n Epoch {} loss:{}\".format(i+1, np.mean(running_loss)))\n",
        "\n",
        "        # Keep track of training loss, accuracy, and validation loss\n",
        "        trn_loss_hist.append(np.mean(running_loss))\n",
        "        trn_acc_hist.append(evaluate(model, trainloader))\n",
        "        print(\"\\n Evaluate on validation set...\")\n",
        "        val_acc_hist.append(evaluate(model, valloader))\n",
        "    print(\"Done!\")\n",
        "    return trn_loss_hist, trn_acc_hist, val_acc_hist\n",
        "\n",
        "\n",
        "def evaluate(model, loader):  # Evaluate accuracy on validation / test set\n",
        "    model.eval()  # Set the model to evaluation mode\n",
        "    correct = 0\n",
        "    with torch.no_grad():  # Do not calculate grident to speed up computation\n",
        "        for input in tqdm(loader):\n",
        "            batch, label = input['image'], input['label']\n",
        "            batch = batch.to(device)\n",
        "            label = label.to(device)\n",
        "            pred = model(batch)\n",
        "            correct += (torch.argmax(pred, dim=1) == label).sum().item()\n",
        "        acc = correct/len(loader.dataset)\n",
        "        print(\"\\n Evaluation accuracy: {}\".format(acc))\n",
        "        return acc\n",
        "\n",
        "\n",
        "trn_loss_hist, trn_acc_hist, val_acc_hist = train(model, train_loader,\n",
        "                                                  test_loader, num_epoch)\n",
        "\n",
        "##############################################################################\n",
        "# TODO: Note down the evaluation accuracy on test set                        #\n",
        "##############################################################################\n",
        "print(\"\\n Evaluate on test set\")\n",
        "# evaluate(model, testloader)"
      ]
    },
    {
      "cell_type": "markdown",
      "metadata": {
        "id": "kwDhwaydQR1Q"
      },
      "source": [
        "Once your training is complete, run the cell below to visualize the training and validation accuracies across iterations."
      ]
    },
    {
      "cell_type": "code",
      "execution_count": null,
      "metadata": {
        "id": "1lYqngdtPQB8",
        "colab": {
          "base_uri": "https://localhost:8080/",
          "height": 487
        },
        "outputId": "1d894910-c942-4c2e-b733-2a2416f33bc1"
      },
      "outputs": [
        {
          "output_type": "display_data",
          "data": {
            "text/plain": [
              "<Figure size 1000x500 with 1 Axes>"
            ],
            "image/png": "[encoded data removed]"
          },
          "metadata": {}
        }
      ],
      "source": [
        "##############################################################################\n",
        "# TODO: Submit the accuracy plot                                             #\n",
        "##############################################################################\n",
        "# visualize the training / validation accuracies\n",
        "x = np.arange(num_epoch)\n",
        "# train/val accuracies for MiniVGG\n",
        "plt.figure()\n",
        "plt.plot(x, trn_acc_hist)\n",
        "plt.plot(x, val_acc_hist)\n",
        "plt.legend(['Training', 'Validation'])\n",
        "plt.xticks(x)\n",
        "plt.xlabel('Epoch')\n",
        "plt.ylabel('Accuracy')\n",
        "plt.title('Geoguessr Location Classification')\n",
        "plt.gcf().set_size_inches(10, 5)\n",
        "plt.savefig('part1.png', dpi=300)\n",
        "plt.show()"
      ]
    },
    {
      "cell_type": "code",
      "source": [
        "!pip install umap-learn\n",
        "import umap.umap_ as umap\n",
        "import numpy as np\n",
        "import matplotlib.pyplot as plt\n",
        "np.random.seed(0)\n",
        "n_samples = 100\n",
        "n_features = 10\n",
        "data = np.random.rand(n_samples, n_features)\n",
        "umap_obj = umap.UMAP(n_neighbors=5, min_dist=0.3, random_state=42)\n",
        "embedding = umap_obj.fit_transform(data)\n",
        "\n",
        "plt.scatter(embedding[:, 0], embedding[:, 1])\n",
        "plt.title('UMAP Embedding')\n",
        "plt.xlabel('UMAP Dimension 1')\n",
        "plt.ylabel('UMAP Dimension 2')\n",
        "plt.show()"
      ],
      "metadata": {
        "id": "6rAkeKH4fSd0",
        "colab": {
          "base_uri": "https://localhost:8080/",
          "height": 680
        },
        "outputId": "dbb25539-3345-40bf-d041-def9d2094cbe"
      },
      "execution_count": 4,
      "outputs": [
        {
          "output_type": "stream",
          "name": "stdout",
          "text": [
            "Requirement already satisfied: umap-learn in /usr/local/lib/python3.10/dist-packages (0.5.6)\n",
            "Requirement already satisfied: numpy>=1.17 in /usr/local/lib/python3.10/dist-packages (from umap-learn) (1.25.2)\n",
            "Requirement already satisfied: scipy>=1.3.1 in /usr/local/lib/python3.10/dist-packages (from umap-learn) (1.11.4)\n",
            "Requirement already satisfied: scikit-learn>=0.22 in /usr/local/lib/python3.10/dist-packages (from umap-learn) (1.2.2)\n",
            "Requirement already satisfied: numba>=0.51.2 in /usr/local/lib/python3.10/dist-packages (from umap-learn) (0.58.1)\n",
            "Requirement already satisfied: pynndescent>=0.5 in /usr/local/lib/python3.10/dist-packages (from umap-learn) (0.5.12)\n",
            "Requirement already satisfied: tqdm in /usr/local/lib/python3.10/dist-packages (from umap-learn) (4.66.2)\n",
            "Requirement already satisfied: llvmlite<0.42,>=0.41.0dev0 in /usr/local/lib/python3.10/dist-packages (from numba>=0.51.2->umap-learn) (0.41.1)\n",
            "Requirement already satisfied: joblib>=0.11 in /usr/local/lib/python3.10/dist-packages (from pynndescent>=0.5->umap-learn) (1.4.0)\n",
            "Requirement already satisfied: threadpoolctl>=2.0.0 in /usr/local/lib/python3.10/dist-packages (from scikit-learn>=0.22->umap-learn) (3.4.0)\n"
          ]
        },
        {
          "output_type": "stream",
          "name": "stderr",
          "text": [
            "/usr/local/lib/python3.10/dist-packages/umap/umap_.py:1945: UserWarning: n_jobs value 1 overridden to 1 by setting random_state. Use no seed for parallelism.\n",
            "  warn(f\"n_jobs value {self.n_jobs} overridden to 1 by setting random_state. Use no seed for parallelism.\")\n"
          ]
        },
        {
          "output_type": "display_data",
          "data": {
            "text/plain": [
              "<Figure size 640x480 with 1 Axes>"
            ],
            "image/png": "[encoded data removed]"
          },
          "metadata": {}
        }
      ]
    }
  ],
  "metadata": {
    "colab": {
      "provenance": [],
      "gpuType": "T4"
    },
    "kernelspec": {
      "display_name": "Python 3",
      "name": "python3"
    },
    "language_info": {
      "codemirror_mode": {
        "name": "ipython",
        "version": 3
      },
      "file_extension": ".py",
      "mimetype": "text/x-python",
      "name": "python",
      "nbconvert_exporter": "python",
      "pygments_lexer": "ipython3",
      "version": "3.10.10"
    },
    "vscode": {
      "interpreter": {
        "hash": "9d34995e9b9aacf7236904ea7ddf7585a36f6be47e873dd30641939c3248d078"
      }
    },
    "accelerator": "GPU"
  },
  "nbformat": 4,
  "nbformat_minor": 0
}